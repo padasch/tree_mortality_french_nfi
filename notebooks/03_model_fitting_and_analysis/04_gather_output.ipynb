{
 "cells": [
  {
   "cell_type": "markdown",
   "metadata": {},
   "source": [
    "# Gather Output\n",
    "\n",
    "This notebook gathers all figures and tables used in the study.\n"
   ]
  },
  {
   "cell_type": "code",
   "execution_count": 9,
   "metadata": {},
   "outputs": [
    {
     "name": "stdout",
     "output_type": "stream",
     "text": [
      "The autoreload extension is already loaded. To reload it, use:\n",
      "  %reload_ext autoreload\n"
     ]
    }
   ],
   "source": [
    "# Define function\n",
    "import sys\n",
    "\n",
    "sys.path.insert(0, \"../../src\")\n",
    "from imports import *\n",
    "\n",
    "init_notebook()\n",
    "\n",
    "\n",
    "def copy_and_rename_file(source: str, target: str) -> None:\n",
    "    \"\"\"\n",
    "    Copies a plot file from the source path to the target path.\n",
    "\n",
    "    Parameters:\n",
    "        source (str): Path to the original plot file.\n",
    "        target (str): Path where the copied file should be saved, including the new name if renaming.\n",
    "    \"\"\"\n",
    "    display(\"----------------------------------------------------------------\")\n",
    "    # Report if file missing\n",
    "    if not os.path.isfile(source):\n",
    "        print(f\"🔴 Error: Source file '{source}' not found.\")\n",
    "        return\n",
    "\n",
    "    elif os.path.isfile(target):\n",
    "        shutil.copy(source, target)\n",
    "        print(\n",
    "            f\"🟡 Warning: Target file '{target}' was overwritten.\\n - From '{source}'\\n - To {target}\"\n",
    "        )\n",
    "    else:\n",
    "        shutil.copy(source, target)\n",
    "        print(f\"🟢 File copied successfully!\\n - From '{source}'\\n - To {target}\")"
   ]
  },
  {
   "cell_type": "code",
   "execution_count": null,
   "metadata": {},
   "outputs": [
    {
     "data": {
      "text/plain": [
       "'----------------------------------------------------------------'"
      ]
     },
     "metadata": {},
     "output_type": "display_data"
    },
    {
     "name": "stdout",
     "output_type": "stream",
     "text": [
      "🟡 Warning: Target file '../../output/fig-1.png' was overwritten.\n",
      " - From '../01_process_nfi_data/overview-climate_change-mortality.png'\n",
      " - To ../../output/fig-1.png\n"
     ]
    },
    {
     "data": {
      "text/plain": [
       "'----------------------------------------------------------------'"
      ]
     },
     "metadata": {},
     "output_type": "display_data"
    },
    {
     "name": "stdout",
     "output_type": "stream",
     "text": [
      "🟡 Warning: Target file '../../output/fig-2.png' was overwritten.\n",
      " - From './model_analysis/2025-02-27/scale_response_and_shape/pattern_analysis/by_mk/roc_0.6/fig_dataset_pattern/top9.png'\n",
      " - To ../../output/fig-2.png\n"
     ]
    },
    {
     "data": {
      "text/plain": [
       "'----------------------------------------------------------------'"
      ]
     },
     "metadata": {},
     "output_type": "display_data"
    },
    {
     "name": "stdout",
     "output_type": "stream",
     "text": [
      "🟡 Warning: Target file '../../output/fig-3.png' was overwritten.\n",
      " - From './model_analysis/2025-02-27/scale_response_and_shape/pattern_analysis/by_mk/roc_0.6/pie_charts/pie-temp-double_change-top9_True-scaled_by_100perc_True-scale_by_nmodels_False-add_boxes_False.png'\n",
      " - To ../../output/fig-3.png\n"
     ]
    },
    {
     "data": {
      "text/plain": [
       "'----------------------------------------------------------------'"
      ]
     },
     "metadata": {},
     "output_type": "display_data"
    },
    {
     "name": "stdout",
     "output_type": "stream",
     "text": [
      "🟡 Warning: Target file '../../output/fig-4.png' was overwritten.\n",
      " - From './model_analysis/2025-02-27/scale_response_and_shape/pattern_analysis/by_mk/roc_0.6/pie_charts/pie-spei-double_change-top9_True-scaled_by_100perc_True-scale_by_nmodels_False-add_boxes_False.png'\n",
      " - To ../../output/fig-4.png\n"
     ]
    },
    {
     "data": {
      "text/plain": [
       "'----------------------------------------------------------------'"
      ]
     },
     "metadata": {},
     "output_type": "display_data"
    },
    {
     "name": "stdout",
     "output_type": "stream",
     "text": [
      "🟡 Warning: Target file '../../output/fig-5.png' was overwritten.\n",
      " - From './model_analysis/2025-02-27/scale_response_and_shape/pattern_analysis/by_mk/roc_0.6/tree-level/top9-corr_r-wetter_vs_drier-subset_of_runs_all.png'\n",
      " - To ../../output/fig-5.png\n"
     ]
    },
    {
     "data": {
      "text/plain": [
       "'----------------------------------------------------------------'"
      ]
     },
     "metadata": {},
     "output_type": "display_data"
    },
    {
     "name": "stdout",
     "output_type": "stream",
     "text": [
      "🟡 Warning: Target file '../../output/fig-6.png' was overwritten.\n",
      " - From './model_analysis/2025-02-27/scale_response_and_shape/pattern_analysis/by_mk/roc_0.6/pca+lms/wetter-labels_top9+_long_True-colored_mixed.png'\n",
      " - To ../../output/fig-6.png\n"
     ]
    },
    {
     "data": {
      "text/plain": [
       "'----------------------------------------------------------------'"
      ]
     },
     "metadata": {},
     "output_type": "display_data"
    },
    {
     "name": "stdout",
     "output_type": "stream",
     "text": [
      "🟡 Warning: Target file '../../output/fig-s1-1.png' was overwritten.\n",
      " - From '../01_process_nfi_data/mortality_trends-all_species-1.png'\n",
      " - To ../../output/fig-s1-1.png\n"
     ]
    },
    {
     "data": {
      "text/plain": [
       "'----------------------------------------------------------------'"
      ]
     },
     "metadata": {},
     "output_type": "display_data"
    },
    {
     "name": "stdout",
     "output_type": "stream",
     "text": [
      "🟡 Warning: Target file '../../output/fig-s1-2.png' was overwritten.\n",
      " - From '../01_process_nfi_data/mortality_trends-all_species-2.png'\n",
      " - To ../../output/fig-s1-2.png\n"
     ]
    },
    {
     "data": {
      "text/plain": [
       "'----------------------------------------------------------------'"
      ]
     },
     "metadata": {},
     "output_type": "display_data"
    },
    {
     "name": "stdout",
     "output_type": "stream",
     "text": [
      "🟡 Warning: Target file '../../output/fig-s2.png' was overwritten.\n",
      " - From '../01_process_nfi_data/mortality_map-all_species.png'\n",
      " - To ../../output/fig-s2.png\n"
     ]
    },
    {
     "data": {
      "text/plain": [
       "'----------------------------------------------------------------'"
      ]
     },
     "metadata": {},
     "output_type": "display_data"
    },
    {
     "name": "stdout",
     "output_type": "stream",
     "text": [
      "🟡 Warning: Target file '../../output/fig-s3.png' was overwritten.\n",
      " - From './model_analysis/2025-02-27/scale_response_and_shape/pattern_analysis/by_mk/roc_0.6/fig_dataset_pattern/all.png'\n",
      " - To ../../output/fig-s3.png\n"
     ]
    },
    {
     "data": {
      "text/plain": [
       "'----------------------------------------------------------------'"
      ]
     },
     "metadata": {},
     "output_type": "display_data"
    },
    {
     "name": "stdout",
     "output_type": "stream",
     "text": [
      "🟡 Warning: Target file '../../output/fig-s4.png' was overwritten.\n",
      " - From './model_analysis/2025-02-27/scale_response_and_shape/pattern_analysis/by_mk/roc_0.6/feature_counts/feature_counts.png'\n",
      " - To ../../output/fig-s4.png\n"
     ]
    },
    {
     "data": {
      "text/plain": [
       "'----------------------------------------------------------------'"
      ]
     },
     "metadata": {},
     "output_type": "display_data"
    },
    {
     "name": "stdout",
     "output_type": "stream",
     "text": [
      "🟡 Warning: Target file '../../output/fig-s5.png' was overwritten.\n",
      " - From './model_analysis/2025-02-27/scale_response_and_shape/pattern_analysis/by_mk/roc_0.6/pie_charts/pie-spei-double_change-top9_False-scaled_by_100perc_True-scale_by_nmodels_False-add_boxes_False.png'\n",
      " - To ../../output/fig-s5.png\n"
     ]
    },
    {
     "data": {
      "text/plain": [
       "'----------------------------------------------------------------'"
      ]
     },
     "metadata": {},
     "output_type": "display_data"
    },
    {
     "name": "stdout",
     "output_type": "stream",
     "text": [
      "🟡 Warning: Target file '../../output/fig-s6.png' was overwritten.\n",
      " - From './model_analysis/2025-02-27/scale_response_and_shape/pattern_analysis/by_mk/roc_0.6/pie_charts/pie-temp-double_change-top9_False-scaled_by_100perc_True-scale_by_nmodels_False-add_boxes_False.png'\n",
      " - To ../../output/fig-s6.png\n"
     ]
    },
    {
     "data": {
      "text/plain": [
       "'----------------------------------------------------------------'"
      ]
     },
     "metadata": {},
     "output_type": "display_data"
    },
    {
     "name": "stdout",
     "output_type": "stream",
     "text": [
      "🟡 Warning: Target file '../../output/fig-s7.png' was overwritten.\n",
      " - From './model_analysis/2025-02-27/scale_response_and_shape/pattern_analysis/by_mk/roc_0.6/tree-level/temporal-temp-all.png'\n",
      " - To ../../output/fig-s7.png\n"
     ]
    },
    {
     "data": {
      "text/plain": [
       "'----------------------------------------------------------------'"
      ]
     },
     "metadata": {},
     "output_type": "display_data"
    },
    {
     "name": "stdout",
     "output_type": "stream",
     "text": [
      "🟡 Warning: Target file '../../output/fig-s8.png' was overwritten.\n",
      " - From './model_analysis/2025-02-27/scale_response_and_shape/pattern_analysis/by_mk/roc_0.6/tree-level/temporal-spei-warmer_drier.png'\n",
      " - To ../../output/fig-s8.png\n"
     ]
    },
    {
     "data": {
      "text/plain": [
       "'----------------------------------------------------------------'"
      ]
     },
     "metadata": {},
     "output_type": "display_data"
    },
    {
     "name": "stdout",
     "output_type": "stream",
     "text": [
      "🟡 Warning: Target file '../../output/fig-s9.png' was overwritten.\n",
      " - From './model_analysis/2025-02-27/scale_response_and_shape/pattern_analysis/by_mk/roc_0.6/tree-level/temporal-spei-warmer_wetter.png'\n",
      " - To ../../output/fig-s9.png\n"
     ]
    },
    {
     "data": {
      "text/plain": [
       "'----------------------------------------------------------------'"
      ]
     },
     "metadata": {},
     "output_type": "display_data"
    },
    {
     "name": "stdout",
     "output_type": "stream",
     "text": [
      "🟡 Warning: Target file '../../output/fig-s10.png' was overwritten.\n",
      " - From './model_analysis/2025-02-27/scale_response_and_shape/pattern_analysis/by_mk/roc_0.6/tree-level/all-corr_r-wetter_vs_drier-subset_of_runs_all.png'\n",
      " - To ../../output/fig-s10.png\n"
     ]
    },
    {
     "data": {
      "text/plain": [
       "'----------------------------------------------------------------'"
      ]
     },
     "metadata": {},
     "output_type": "display_data"
    },
    {
     "name": "stdout",
     "output_type": "stream",
     "text": [
      "🟡 Warning: Target file '../../output/fig-s12.png' was overwritten.\n",
      " - From './../01_process_nfi_data/rf_height_prediction.png'\n",
      " - To ../../output/fig-s12.png\n"
     ]
    },
    {
     "data": {
      "text/plain": [
       "'----------------------------------------------------------------'"
      ]
     },
     "metadata": {},
     "output_type": "display_data"
    },
    {
     "name": "stdout",
     "output_type": "stream",
     "text": [
      "🟡 Warning: Target file '../../output/fig-s13.png' was overwritten.\n",
      " - From './../02_collect_features/example_temperature_features.png'\n",
      " - To ../../output/fig-s13.png\n"
     ]
    },
    {
     "data": {
      "text/plain": [
       "'----------------------------------------------------------------'"
      ]
     },
     "metadata": {},
     "output_type": "display_data"
    },
    {
     "name": "stdout",
     "output_type": "stream",
     "text": [
      "🟡 Warning: Target file '../../output/fig-S14.png' was overwritten.\n",
      " - From './../02_collect_features/example_spei_features.png'\n",
      " - To ../../output/fig-S14.png\n"
     ]
    },
    {
     "data": {
      "text/plain": [
       "'----------------------------------------------------------------'"
      ]
     },
     "metadata": {},
     "output_type": "display_data"
    },
    {
     "name": "stdout",
     "output_type": "stream",
     "text": [
      "🟡 Warning: Target file '../../output/fig-S15.png' was overwritten.\n",
      " - From './model_analysis/2025-02-27/glmm_analysis/performance_comparison-all_species.png'\n",
      " - To ../../output/fig-S15.png\n"
     ]
    },
    {
     "data": {
      "text/plain": [
       "'----------------------------------------------------------------'"
      ]
     },
     "metadata": {},
     "output_type": "display_data"
    },
    {
     "name": "stdout",
     "output_type": "stream",
     "text": [
      "🟡 Warning: Target file '../../output/fig-s16.png' was overwritten.\n",
      " - From './model_analysis/2025-02-27/glmm_analysis/top9.png'\n",
      " - To ../../output/fig-s16.png\n"
     ]
    },
    {
     "data": {
      "text/plain": [
       "'----------------------------------------------------------------'"
      ]
     },
     "metadata": {},
     "output_type": "display_data"
    },
    {
     "name": "stdout",
     "output_type": "stream",
     "text": [
      "🟡 Warning: Target file '../../output/fig-s17.png' was overwritten.\n",
      " - From './model_analysis/2025-02-27/glmm_analysis/all.png'\n",
      " - To ../../output/fig-s17.png\n"
     ]
    },
    {
     "data": {
      "text/plain": [
       "'----------------------------------------------------------------'"
      ]
     },
     "metadata": {},
     "output_type": "display_data"
    },
    {
     "name": "stdout",
     "output_type": "stream",
     "text": [
      "🟡 Warning: Target file '../../output/table-s1.csv' was overwritten.\n",
      " - From './model_analysis/2025-02-27/scale_response_and_shape/pattern_analysis/by_mk/roc_0.6/tables/mortality_trends.csv'\n",
      " - To ../../output/table-s1.csv\n"
     ]
    },
    {
     "data": {
      "text/plain": [
       "'----------------------------------------------------------------'"
      ]
     },
     "metadata": {},
     "output_type": "display_data"
    },
    {
     "name": "stdout",
     "output_type": "stream",
     "text": [
      "🟡 Warning: Target file '../../output/table-s2.csv' was overwritten.\n",
      " - From './model_analysis/2025-02-27/scale_response_and_shape/pattern_analysis/by_mk/roc_0.6/tables/category_importance.csv'\n",
      " - To ../../output/table-s2.csv\n"
     ]
    },
    {
     "data": {
      "text/plain": [
       "'----------------------------------------------------------------'"
      ]
     },
     "metadata": {},
     "output_type": "display_data"
    },
    {
     "name": "stdout",
     "output_type": "stream",
     "text": [
      "🟡 Warning: Target file '../../output/table-s3.csv' was overwritten.\n",
      " - From './model_analysis/2025-02-27/scale_response_and_shape/pattern_analysis/by_mk/roc_0.6/tables/spei_features_all_species.csv'\n",
      " - To ../../output/table-s3.csv\n"
     ]
    },
    {
     "data": {
      "text/plain": [
       "'----------------------------------------------------------------'"
      ]
     },
     "metadata": {},
     "output_type": "display_data"
    },
    {
     "name": "stdout",
     "output_type": "stream",
     "text": [
      "🟡 Warning: Target file '../../output/table-s4.csv' was overwritten.\n",
      " - From './model_analysis/2025-02-27/scale_response_and_shape/pattern_analysis/by_mk/roc_0.6/tables/temp_features_all_species.csv'\n",
      " - To ../../output/table-s4.csv\n"
     ]
    }
   ],
   "source": [
    "# Create output folder\n",
    "os.makedirs(\"../../output\", exist_ok=True)\n",
    "\n",
    "# Get latest model_analysis folder\n",
    "latest_model_analysis = glob.glob(f\"./model_analysis/*\")[0]\n",
    "base_dir = \"./model_analysis/*/*/*/*/*/*\"\n",
    "\n",
    "# Copy the plots from the latest model_analysis folder to the plots folder\n",
    "# ! MAIN ---\n",
    "# FIGURE 1 (created in notebook `02_calculate_mortality.ipynb`)\n",
    "copy_and_rename_file(\n",
    "    \"../01_process_nfi_data/overview-climate_change-mortality.png\",\n",
    "    \"../../output/fig-1.png\",\n",
    ")\n",
    "\n",
    "# FIGURE 2 (created in notebook `02_random_forest_analysis.ipynb`)\n",
    "copy_and_rename_file(\n",
    "    glob.glob(f\"{base_dir}/top9.png\")[0],\n",
    "    \"../../output/fig-2.png\",\n",
    ")\n",
    "\n",
    "# FIGURE 3 (created in notebook `02_random_forest_analysis.ipynb`)\n",
    "copy_and_rename_file(\n",
    "    glob.glob(\n",
    "        f\"{base_dir}/pie-temp-double_change-top9_True-scaled_by_100perc_True-scale_by_nmodels_False-add_boxes_False.png\"\n",
    "    )[0],\n",
    "    \"../../output/fig-3.png\",\n",
    ")\n",
    "\n",
    "# FIGURE 4 (created in notebook `02_random_forest_analysis.ipynb`)\n",
    "copy_and_rename_file(\n",
    "    glob.glob(\n",
    "        f\"{base_dir}/pie-spei-double_change-top9_True-scaled_by_100perc_True-scale_by_nmodels_False-add_boxes_False.png\"\n",
    "    )[0],\n",
    "    \"../../output/fig-4.png\",\n",
    ")\n",
    "\n",
    "# FIGURE 5 (created in notebook `02_random_forest_analysis.ipynb`)\n",
    "copy_and_rename_file(\n",
    "    glob.glob(f\"{base_dir}/top9-corr_r-wetter_vs_drier-subset_of_runs_all.png\")[0],\n",
    "    \"../../output/fig-5.png\",\n",
    ")\n",
    "\n",
    "# FIGURE 6 (created in notebook `02_random_forest_analysis.ipynb`)\n",
    "copy_and_rename_file(\n",
    "    glob.glob(f\"{base_dir}/wetter-labels_top9+_long_True-colored_mixed.png\")[0],\n",
    "    \"../../output/fig-6.png\",\n",
    ")\n",
    "\n",
    "# ! SUPPLEMENTARY ---\n",
    "# FIGURES S1 (created in notebook `02_calculate_mortality.ipynb`)\n",
    "copy_and_rename_file(\n",
    "    \"../01_process_nfi_data/mortality_trends-all_species-1.png\",\n",
    "    \"../../output/fig-s1-1.png\",\n",
    ")\n",
    "copy_and_rename_file(\n",
    "    \"../01_process_nfi_data/mortality_trends-all_species-2.png\",\n",
    "    \"../../output/fig-s1-2.png\",\n",
    ")\n",
    "\n",
    "# FIGURES S2 (created in notebook `02_calculate_mortality.ipynb`)\n",
    "copy_and_rename_file(\n",
    "    \"../01_process_nfi_data/mortality_map-all_species.png\",\n",
    "    \"../../output/fig-s2.png\",\n",
    ")\n",
    "\n",
    "# FIGURE S3 (created in notebook `02_random_forest_analysis.ipynb`)\n",
    "copy_and_rename_file(\n",
    "    glob.glob(f\"{base_dir}/all.png\")[0],\n",
    "    \"../../output/fig-s3.png\",\n",
    ")\n",
    "\n",
    "# FIGURE S4 (created in notebook `02_random_forest_analysis.ipynb`)\n",
    "copy_and_rename_file(\n",
    "    glob.glob(f\"{base_dir}/feature_counts.png\")[0],\n",
    "    \"../../output/fig-s4.png\",\n",
    ")\n",
    "\n",
    "# FIGURE S5 (created in notebook `02_random_forest_analysis.ipynb`)\n",
    "copy_and_rename_file(\n",
    "    glob.glob(\n",
    "        f\"{base_dir}/pie-spei-double_change-top9_False-scaled_by_100perc_True-scale_by_nmodels_False-add_boxes_False.png\"\n",
    "    )[0],\n",
    "    \"../../output/fig-s5.png\",\n",
    ")\n",
    "\n",
    "# FIGURE S6 (created in notebook `02_random_forest_analysis.ipynb`)\n",
    "copy_and_rename_file(\n",
    "    glob.glob(\n",
    "        f\"{base_dir}/pie-temp-double_change-top9_False-scaled_by_100perc_True-scale_by_nmodels_False-add_boxes_False.png\"\n",
    "    )[0],\n",
    "    \"../../output/fig-s6.png\",\n",
    ")\n",
    "\n",
    "# FIGURE S7 (created in notebook `02_random_forest_analysis.ipynb`)\n",
    "copy_and_rename_file(\n",
    "    glob.glob(f\"{base_dir}/temporal-temp-all.png\")[0],\n",
    "    \"../../output/fig-s7.png\",\n",
    ")\n",
    "\n",
    "# FIGURE S8 (created in notebook `02_random_forest_analysis.ipynb`)\n",
    "copy_and_rename_file(\n",
    "    glob.glob(f\"{base_dir}/temporal-spei-warmer_drier.png\")[0],\n",
    "    \"../../output/fig-s8.png\",\n",
    ")\n",
    "\n",
    "# FIGURE S9 (created in notebook `02_random_forest_analysis.ipynb`)\n",
    "copy_and_rename_file(\n",
    "    glob.glob(f\"{base_dir}/temporal-spei-warmer_wetter.png\")[0],\n",
    "    \"../../output/fig-s9.png\",\n",
    ")\n",
    "\n",
    "# FIGURE S10 (created in notebook `02_random_forest_analysis.ipynb`)\n",
    "copy_and_rename_file(\n",
    "    glob.glob(f\"{base_dir}/all-corr_r-wetter_vs_drier-subset_of_runs_all.png\")[0],\n",
    "    \"../../output/fig-s10.png\",\n",
    ")\n",
    "\n",
    "# FIGURE S11 (conceptual figure by hand)\n",
    "\n",
    "# FIGURE S12 (created in notebook `01_clean_raw_nfi_data.ipynb`)\n",
    "copy_and_rename_file(\n",
    "    \"./../01_process_nfi_data/rf_height_prediction.png\",\n",
    "    \"../../output/fig-s12.png\",\n",
    ")\n",
    "\n",
    "# FIGURE S13 (created in notebook `10_get_climate.ipynb`)\n",
    "copy_and_rename_file(\n",
    "    \"./../02_collect_features/example_temperature_features.png\",\n",
    "    \"../../output/fig-s13.png\",\n",
    ")\n",
    "\n",
    "# FIGURE S14 (created in notebook `10_get_spei.ipynb`)\n",
    "copy_and_rename_file(\n",
    "    \"./../02_collect_features/example_spei_features.png\",\n",
    "    \"../../output/fig-S14.png\",\n",
    ")\n",
    "\n",
    "# FIGURE S15 (created in notebook `03_glmm_analysis.ipynb`)\n",
    "copy_and_rename_file(\n",
    "    glob.glob(\n",
    "        f\"./model_analysis/*/glmm_analysis/performance_comparison-all_species.png\"\n",
    "    )[0],\n",
    "    \"../../output/fig-S15.png\",\n",
    ")\n",
    "\n",
    "# FIGURE S16 (created in notebook `03_glmm_analysis.ipynb`)\n",
    "copy_and_rename_file(\n",
    "    glob.glob(f\"./model_analysis/*/glmm_analysis/top9.png\")[0],\n",
    "    \"../../output/fig-s16.png\",\n",
    ")\n",
    "# FIGURE S17 (created in notebook `03_glmm_analysis.ipynb`)\n",
    "copy_and_rename_file(\n",
    "    glob.glob(f\"./model_analysis/*/glmm_analysis/all.png\")[0],\n",
    "    \"../../output/fig-s17.png\",\n",
    ")\n",
    "\n",
    "# TABLE S1 (created in notebook `02_random_forest_analysis.ipynb`)\n",
    "copy_and_rename_file(\n",
    "    glob.glob(f\"{base_dir}/mortality_trends.csv\")[0],\n",
    "    \"../../output/table-s1.csv\",\n",
    ")\n",
    "\n",
    "# TABLE S2 (created in notebook `02_random_forest_analysis.ipynb`)\n",
    "copy_and_rename_file(\n",
    "    glob.glob(f\"{base_dir}/category_importance.csv\")[0],\n",
    "    \"../../output/table-s2.csv\",\n",
    ")\n",
    "\n",
    "# TABLE S3 (created in notebook `02_random_forest_analysis.ipynb`)\n",
    "copy_and_rename_file(\n",
    "    glob.glob(f\"{base_dir}/spei_features_all_species.csv\")[0],\n",
    "    \"../../output/table-s3.csv\",\n",
    ")\n",
    "\n",
    "# TABLE S4 (created in notebook `02_random_forest_analysis.ipynb`)\n",
    "copy_and_rename_file(\n",
    "    glob.glob(f\"{base_dir}/temp_features_all_species.csv\")[0],\n",
    "    \"../../output/table-s4.csv\",\n",
    ")"
   ]
  },
  {
   "cell_type": "markdown",
   "metadata": {},
   "source": [
    "---\n"
   ]
  }
 ],
 "metadata": {
  "kernelspec": {
   "display_name": ".venv",
   "language": "python",
   "name": "python3"
  },
  "language_info": {
   "codemirror_mode": {
    "name": "ipython",
    "version": 3
   },
   "file_extension": ".py",
   "mimetype": "text/x-python",
   "name": "python",
   "nbconvert_exporter": "python",
   "pygments_lexer": "ipython3",
   "version": "3.11.5"
  }
 },
 "nbformat": 4,
 "nbformat_minor": 2
}
