{
 "cells": [
  {
   "cell_type": "markdown",
   "metadata": {},
   "source": [
    "# Create Reproducibility Subset\n",
    "\n",
    "- Below is code to subset the model fitting results for random forest and glmm results for the most common nine species.\n",
    "- This skips the data produced in `01_model_fitting.ipynb` and the model fitting part in `03_glmm_analysis.ipynb`.\n",
    "- This data subset allows to reproduce the results in `02_randomforests_analysis.ipynb` and `03_glmm_analysis.ipynb`.\n",
    "- Important: Results that are based on analysing all species at once are NOT correctly reproduced when using this subset.\n"
   ]
  },
  {
   "cell_type": "markdown",
   "metadata": {},
   "source": [
    "## Setup\n"
   ]
  },
  {
   "cell_type": "code",
   "execution_count": 5,
   "metadata": {},
   "outputs": [],
   "source": [
    "import os\n",
    "import shutil\n",
    "\n",
    "\n",
    "def copy_subset(source_root, destination_root):\n",
    "    \"\"\"Copies specified species and their subfolders/files from each run_{seed} folder.\"\"\"\n",
    "\n",
    "    # Specify species, subfolders, and root files to copy\n",
    "    species_to_copy = [\n",
    "        \"Fagus sylvatica\",\n",
    "        \"Quercus robur\",\n",
    "        \"Quercus petraea\",\n",
    "        \"Carpinus betulus\",\n",
    "        \"Castanea sativa\",\n",
    "        \"Quercus pubescens\",\n",
    "        \"Pinus sylvestris\",\n",
    "        \"Abies alba\",\n",
    "        \"Picea abies\",\n",
    "    ]\n",
    "\n",
    "    subfolders_to_copy = [\n",
    "        \"final_model\",\n",
    "        \"glmm\",\n",
    "        \"shap\",\n",
    "        \"rf_performance\",\n",
    "        \"treeid\",\n",
    "    ]\n",
    "\n",
    "    glmm_files_to_copy = [\n",
    "        \"pr_auc.csv\",\n",
    "        \"roc_auc.csv\",\n",
    "        \"summary.csv\",\n",
    "        \"glmm_model.pkl\",\n",
    "    ]\n",
    "\n",
    "    root_files_to_copy = [\n",
    "        \"__user_input.txt\",\n",
    "        \"final_model_performance.csv\",\n",
    "        \"shap_variable_importance.csv\",\n",
    "        \"refcv_metrics.cvs\",\n",
    "    ]\n",
    "\n",
    "    # Delete destination root folder if it exists\n",
    "    if os.path.exists(destination_root):\n",
    "        raise Exception(\"Destination folder already exists. Please delete it first.\")\n",
    "\n",
    "    # Create destination root folder if it doesn't exist\n",
    "    os.makedirs(destination_root, exist_ok=True)\n",
    "\n",
    "    # Copy species-specific content from each run_{seed} folder\n",
    "    for run_folder in os.listdir(source_root):\n",
    "        run_path = os.path.join(source_root, run_folder)\n",
    "\n",
    "        if not os.path.isdir(run_path) or not run_folder.startswith(\"run_\"):\n",
    "            continue  # Skip non-run folders\n",
    "\n",
    "        destination_run_path = os.path.join(destination_root, run_folder)\n",
    "        os.makedirs(destination_run_path, exist_ok=True)\n",
    "\n",
    "        # Copy species-specific content\n",
    "        for species in species_to_copy:\n",
    "            species_source = os.path.join(run_path, species)\n",
    "            species_dest = os.path.join(destination_run_path, species)\n",
    "\n",
    "            if os.path.exists(species_source):\n",
    "                os.makedirs(species_dest, exist_ok=True)\n",
    "\n",
    "                # Copy selected subfolders\n",
    "                for subfolder in subfolders_to_copy:\n",
    "                    subfolder_source = os.path.join(species_source, subfolder)\n",
    "                    subfolder_dest = os.path.join(species_dest, subfolder)\n",
    "\n",
    "                    if os.path.exists(subfolder_source):\n",
    "                        if subfolder == \"glmm\":\n",
    "                            # Copy only the specified files from glmm\n",
    "                            os.makedirs(subfolder_dest, exist_ok=True)\n",
    "                            for file_name in glmm_files_to_copy:\n",
    "                                file_source = os.path.join(subfolder_source, file_name)\n",
    "                                file_dest = os.path.join(subfolder_dest, file_name)\n",
    "\n",
    "                                if os.path.exists(file_source):\n",
    "                                    shutil.copy2(file_source, file_dest)\n",
    "                        else:\n",
    "                            # Copy the entire folder for other subfolders\n",
    "                            shutil.copytree(\n",
    "                                subfolder_source, subfolder_dest, dirs_exist_ok=True\n",
    "                            )\n",
    "\n",
    "                # Copy selected root files\n",
    "                for root_file in root_files_to_copy:\n",
    "                    file_source = os.path.join(species_source, root_file)\n",
    "                    file_dest = os.path.join(species_dest, root_file)\n",
    "\n",
    "                    if os.path.exists(file_source):\n",
    "                        shutil.copy2(file_source, file_dest)\n",
    "\n",
    "    print(\"File copy process completed.\")"
   ]
  },
  {
   "cell_type": "code",
   "execution_count": 7,
   "metadata": {},
   "outputs": [
    {
     "name": "stdout",
     "output_type": "stream",
     "text": [
      "File copy process completed.\n"
     ]
    }
   ],
   "source": [
    "# Copy subset\n",
    "dir_root = \"model_runs/all_runs\"\n",
    "dir_dest = \"/Volumes/SAMSUNG 1TB/data_for_zenodo/all_runs\"\n",
    "# dir_dest = \"model_runs/all_runs_subset\"\n",
    "\n",
    "copy_subset(dir_root, dir_dest)"
   ]
  },
  {
   "cell_type": "markdown",
   "metadata": {},
   "source": [
    "---\n"
   ]
  }
 ],
 "metadata": {
  "kernelspec": {
   "display_name": ".venv",
   "language": "python",
   "name": "python3"
  },
  "language_info": {
   "codemirror_mode": {
    "name": "ipython",
    "version": 3
   },
   "file_extension": ".py",
   "mimetype": "text/x-python",
   "name": "python",
   "nbconvert_exporter": "python",
   "pygments_lexer": "ipython3",
   "version": "3.11.5"
  }
 },
 "nbformat": 4,
 "nbformat_minor": 2
}
