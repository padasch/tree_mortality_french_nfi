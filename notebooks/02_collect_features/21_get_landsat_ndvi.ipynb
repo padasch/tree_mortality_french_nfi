{
 "cells": [
  {
   "cell_type": "markdown",
   "metadata": {},
   "source": [
    "# Landsat NDVI\n"
   ]
  },
  {
   "cell_type": "code",
   "execution_count": null,
   "metadata": {},
   "outputs": [],
   "source": [
    "import sys\n",
    "\n",
    "sys.path.insert(0, \"../../src\")\n",
    "from imports import *\n",
    "\n",
    "init_notebook()"
   ]
  },
  {
   "cell_type": "code",
   "execution_count": null,
   "metadata": {},
   "outputs": [],
   "source": [
    "# ESA binary forest file\n",
    "path_raster_esa = \"/Volumes/SAMSUNG 1TB/land_cover_esa_v200/processed/esa_v200_10m_merged_binary_2154-30m_ndvi-extent-twice.tif\"\n",
    "\n",
    "# ESA zonal mean forest file\n",
    "path_zonal_mean_forest = \"/Volumes/SAMSUNG 1TB/land_cover_esa_v200/processed/binary_maps/forest_zonal_mean.csv\"\n",
    "\n",
    "# NDVI\n",
    "files_ndvi_reprojected = \"/Volumes/SAMSUNG 1TB/ndvi/reprojected/*.tif\"\n",
    "files_ndvi_multiplied = \"/Volumes/SAMSUNG 1TB/ndvi/multiplied/*.tif\"\n",
    "files_ndvi_zonalmean = \"/Volumes/SAMSUNG 1TB/ndvi/zonal_mean/*.csv\"\n",
    "\n",
    "# Coordinates\n",
    "path_buffer = \"../../data/final/nfi/700m_buffer_epsg2154.geojson\"\n",
    "# path_buffer = \"../../data/final/nfi/700m_buffer_epsg2154_100-random-sites.geojson\"  # ! DEBUG OPTION"
   ]
  },
  {
   "cell_type": "markdown",
   "metadata": {},
   "source": [
    "# Multiply NDVI with Forest Pixel Map\n"
   ]
  },
  {
   "cell_type": "code",
   "execution_count": null,
   "metadata": {},
   "outputs": [],
   "source": [
    "# Load ESA binary raster\n",
    "raster_esa = rasterio.open(path_raster_esa)\n",
    "\n",
    "# Load all reprojected NDVI rasters\n",
    "files = glob.glob(files_ndvi_reprojected)\n",
    "files\n",
    "\n",
    "# Loop through all rasters, multiply them, and save them again\n",
    "for f in tqdm(files):\n",
    "\n",
    "    newfile = f.replace(\"reprojected\", \"multiplied\")\n",
    "    if os.path.exists(newfile):\n",
    "        # print(f\"File {newfile} already exists, skipping it\")\n",
    "        continue\n",
    "\n",
    "    raster_b = rasterio.open(f)\n",
    "    raster_c = raster_esa.read(1) * raster_b.read(1)\n",
    "    with rasterio.open(\n",
    "        newfile,\n",
    "        \"w\",\n",
    "        driver=\"GTiff\",\n",
    "        height=raster_c.shape[0],\n",
    "        width=raster_c.shape[1],\n",
    "        count=1,\n",
    "        dtype=raster_c.dtype,\n",
    "        crs=raster_esa.crs,\n",
    "        transform=raster_esa.transform,\n",
    "    ) as dst:\n",
    "        dst.write(raster_c, 1)"
   ]
  },
  {
   "cell_type": "markdown",
   "metadata": {},
   "source": [
    "# Extract Zonal Mean from Forest-NDVI Map\n"
   ]
  },
  {
   "cell_type": "code",
   "execution_count": null,
   "metadata": {},
   "outputs": [],
   "source": [
    "# Extract zonal means from all rasters\n",
    "# Get all input and output files\n",
    "input_files = glob.glob(files_ndvi_multiplied)\n",
    "output_files = [f.replace(\"multiplied/\", \"zonal_mean/\") for f in input_files]\n",
    "output_files = [f.replace(\".tif\", \".csv\") for f in output_files]\n",
    "path_files = pd.DataFrame({\"input_file\": input_files, \"output_file\": output_files})\n",
    "\n",
    "# Run it\n",
    "ndvi_extract_zonal_mean(\n",
    "    path_files,\n",
    "    path_buffer,\n",
    "    force_run=True,\n",
    "    return_df=False,\n",
    "    verbose=True,\n",
    ")\n",
    "\n",
    "# Chime when done\n",
    "chime.success()"
   ]
  },
  {
   "cell_type": "code",
   "execution_count": null,
   "metadata": {},
   "outputs": [],
   "source": [
    "# Get count of forest pixels per site to actually calculate the mean NDVI over all forest pixels!\n",
    "input_files = path_raster_esa\n",
    "output_files = path_zonal_mean_forest\n",
    "path_files = pd.DataFrame({\"input_file\": [input_files], \"output_file\": [output_files]})\n",
    "\n",
    "# Run it\n",
    "# > Note, here I want the function to simply return the binary forest data.\n",
    "df_forest_pixel_count = ndvi_extract_zonal_mean(\n",
    "    path_files, path_buffer, force_run=False\n",
    ")\n",
    "if df_forest_pixel_count is not None:\n",
    "    if df_forest_pixel_count.nodata.unique().shape[0] > 1:\n",
    "        raise ValueError(\n",
    "            \"❌❌❌ More than one unique value in nodata, indicating missing data!: \",\n",
    "            df_forest_pixel_count.nodata.unique(),\n",
    "        )\n",
    "\n",
    "df_forest_pixel_count"
   ]
  },
  {
   "cell_type": "code",
   "execution_count": null,
   "metadata": {},
   "outputs": [],
   "source": [
    "# Load all extracted NDVI files into one dataframe\n",
    "output_files = glob.glob(files_ndvi_zonalmean)\n",
    "\n",
    "first_file = True\n",
    "\n",
    "for f in output_files:\n",
    "\n",
    "    # Extract the year\n",
    "    year = f.split(\"multiplied_\")[1].split(\"_NDVI\")[0]\n",
    "    # print(f)\n",
    "\n",
    "    # Load the file\n",
    "    df = pd.read_csv(f)\n",
    "\n",
    "    # Check if there other values than 0 in the nodata column\n",
    "    if -999 in df[\"nodata\"].unique():\n",
    "        print(\"❌❌❌ NA data found in the file ❌❌❌\")\n",
    "        print(f)\n",
    "\n",
    "    # Divide NDVI sum by the sum of forest pixels, else the signal is diluted in scarce forest areas!\n",
    "    df[f\"{year}\"] = df[\"sum\"] / df_forest_pixel_count[\"sum\"]\n",
    "\n",
    "    if first_file:\n",
    "        df_out = df[[\"idp\", \"first_year\", f\"{year}\"]]\n",
    "        first_file = False\n",
    "    else:\n",
    "        df_out = pd.merge(\n",
    "            df_out,\n",
    "            df[[\"idp\", \"first_year\", f\"{year}\"]],\n",
    "            on=[\"idp\", \"first_year\"],\n",
    "            how=\"left\",\n",
    "        )\n",
    "\n",
    "df_out"
   ]
  },
  {
   "cell_type": "markdown",
   "metadata": {},
   "source": [
    "# Extract NDVI metrics\n"
   ]
  },
  {
   "cell_type": "code",
   "execution_count": null,
   "metadata": {},
   "outputs": [],
   "source": [
    "# Melt df into long format\n",
    "df_long = df_out.melt(id_vars=[\"idp\", \"first_year\"])\n",
    "df_long[\"variable\"] = df_long[\"variable\"].astype(int)\n",
    "df_long.head()"
   ]
  },
  {
   "cell_type": "code",
   "execution_count": null,
   "metadata": {},
   "outputs": [],
   "source": [
    "def ndvi_extract_metrics(df_idp_level, years_before_first_visit=5):\n",
    "    # For each idp, for first to last year, calculate:\n",
    "    # - Average anomaly\n",
    "    # - Most negative anomaly\n",
    "    # - Trend in NDVI (linear regression)\n",
    "\n",
    "    # Get timewindow\n",
    "    first_year = df_idp_level.first_year.unique()[0] - years_before_first_visit\n",
    "    last_year = df_idp_level.first_year.unique()[0] + 5\n",
    "\n",
    "    # Filter for timewindow\n",
    "    df_idp_level = df_idp_level.copy()[\n",
    "        (df_idp_level.variable >= first_year) & (df_idp_level.variable <= last_year)\n",
    "    ]\n",
    "\n",
    "    # Define output df\n",
    "    df_metrics = pd.DataFrame()\n",
    "    df_metrics[\"idp\"] = df_idp_level.idp.unique()\n",
    "\n",
    "    # Calculate mean NDVI\n",
    "    df_metrics[\"ndvi_mean\"] = df_idp_level[\"value\"].mean()\n",
    "\n",
    "    # Calculate anomalies\n",
    "    df_idp_level[\"anomaly\"] = df_idp_level[\"value\"] - df_idp_level[\"value\"].mean()\n",
    "\n",
    "    # Calculate the most negative anomaly\n",
    "    df_metrics[\"ndvi_min_anomaly\"] = df_idp_level[\"anomaly\"].min()\n",
    "\n",
    "    # Calculate the trend in NDVI (linear regression)\n",
    "    slope, intercept, r_value, p_value, std_err = stats.linregress(\n",
    "        df_idp_level[\"variable\"], df_idp_level[\"value\"]\n",
    "    )\n",
    "    df_metrics[\"ndvi_trend\"] = slope\n",
    "\n",
    "    return df_metrics\n",
    "\n",
    "\n",
    "# Run loop\n",
    "df_ndvi_metrics = pd.DataFrame()\n",
    "\n",
    "for idp in tqdm(df_long.idp.unique()):\n",
    "    df_idp_level = df_long[df_long.idp == idp].copy()\n",
    "    df_metrics = ndvi_extract_metrics(df_idp_level, years_before_first_visit=5)\n",
    "    df_ndvi_metrics = pd.concat([df_ndvi_metrics, df_metrics])\n",
    "\n",
    "df_ndvi_metrics"
   ]
  },
  {
   "cell_type": "markdown",
   "metadata": {},
   "source": [
    "# Save final NDVI predictor set\n"
   ]
  },
  {
   "cell_type": "code",
   "execution_count": null,
   "metadata": {},
   "outputs": [],
   "source": [
    "df_ndvi_metrics.to_feather(\"../../data/final/predictor_datasets/ndvi.feather\")"
   ]
  },
  {
   "cell_type": "markdown",
   "metadata": {},
   "source": [
    "---\n"
   ]
  },
  {
   "cell_type": "code",
   "execution_count": null,
   "metadata": {},
   "outputs": [],
   "source": [
    "import sys\n",
    "\n",
    "sys.path.insert(0, \"../../src\")\n",
    "from imports import *\n",
    "\n",
    "init_notebook()"
   ]
  }
 ],
 "metadata": {
  "kernelspec": {
   "display_name": ".venv",
   "language": "python",
   "name": "python3"
  },
  "language_info": {
   "codemirror_mode": {
    "name": "ipython",
    "version": 3
   },
   "file_extension": ".py",
   "mimetype": "text/x-python",
   "name": "python",
   "nbconvert_exporter": "python",
   "pygments_lexer": "ipython3",
   "version": "3.11.5"
  }
 },
 "nbformat": 4,
 "nbformat_minor": 2
}
