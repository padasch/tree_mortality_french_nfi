{
 "cells": [
  {
   "cell_type": "markdown",
   "metadata": {},
   "source": [
    "# Digital Elevation Model\n"
   ]
  },
  {
   "cell_type": "markdown",
   "metadata": {},
   "source": [
    "## 1. Merge DEM from Individual Departments\n",
    "\n",
    "Run this section to merge all the DEM files for the individual departments into one large for all of France\n"
   ]
  },
  {
   "cell_type": "code",
   "execution_count": null,
   "metadata": {},
   "outputs": [],
   "source": [
    "import glob\n",
    "import sys\n",
    "from pyprojroot import here\n",
    "\n",
    "sys.path.insert(0, \"../../src\")\n",
    "from run_mp import *\n",
    "from utilities import *"
   ]
  },
  {
   "cell_type": "code",
   "execution_count": null,
   "metadata": {},
   "outputs": [],
   "source": [
    "# List all ascii files of the digital elevation model\n",
    "all_files = glob.glob(\"../../data/raw/dem_france/all_files/*.asc\")\n",
    "print(\"Number of files: \", len(all_files))\n",
    "display(all_files)"
   ]
  },
  {
   "cell_type": "code",
   "execution_count": null,
   "metadata": {},
   "outputs": [],
   "source": [
    "# # See one file as example\n",
    "# pd.read_csv(\n",
    "#     \"../../data/raw/dem_france/all_files/BDALTIV2_25M_FXX_0100_6800_MNT_LAMB93_IGN69.asc\",\n",
    "#     skiprows=6,\n",
    "#     header=None,\n",
    "#     delim_whitespace=True,\n",
    "# )\n",
    "\n",
    "# # data / raw / dem_france / all_files / BDALTIV2_25M_FXX_0075_6850_MNT_LAMB93_IGN69.asc.aux.xml"
   ]
  },
  {
   "cell_type": "code",
   "execution_count": null,
   "metadata": {},
   "outputs": [],
   "source": [
    "# Combine all files into one\n",
    "# ! Cell takes ca. 1 min to run\n",
    "import glob\n",
    "import rasterio\n",
    "from rasterio.merge import merge\n",
    "from rasterio.crs import CRS\n",
    "from tqdm import tqdm\n",
    "\n",
    "# List all .asc files in the directory\n",
    "asc_files = glob.glob(\"../../data/raw/dem_france/all_files/*.asc\")\n",
    "\n",
    "# List for the data\n",
    "src_files_to_mosaic = []\n",
    "\n",
    "for file in tqdm(asc_files):\n",
    "    src = rasterio.open(file)\n",
    "    src_files_to_mosaic.append(src)\n",
    "\n",
    "# Merge function returns a single mosaic array and the transformation info\n",
    "mosaic, out_trans = merge(src_files_to_mosaic)\n",
    "\n",
    "# Copy the metadata\n",
    "out_meta = src.meta.copy()\n",
    "\n",
    "# Update the metadata\n",
    "out_meta.update(\n",
    "    {\n",
    "        \"driver\": \"GTiff\",\n",
    "        \"height\": mosaic.shape[1],\n",
    "        \"width\": mosaic.shape[2],\n",
    "        \"transform\": out_trans,\n",
    "        \"crs\": CRS.from_epsg(2154).to_string(),\n",
    "    }\n",
    ")"
   ]
  },
  {
   "cell_type": "code",
   "execution_count": null,
   "metadata": {},
   "outputs": [],
   "source": [
    "# Save final DEM as a tif file\n",
    "with rasterio.open(\n",
    "    here(\"data/raw/dem_france/original_dem25_altitude_put_together_in_python.tif\"),\n",
    "    \"w\",\n",
    "    **out_meta\n",
    ") as dest:\n",
    "    dest.write(mosaic)"
   ]
  },
  {
   "cell_type": "markdown",
   "metadata": {},
   "source": [
    "---\n"
   ]
  },
  {
   "cell_type": "markdown",
   "metadata": {},
   "source": [
    "## 2. Produce derivatives in QGIS\n",
    "\n",
    "See the batch process that I wrote to extract different variables like slope, aspect, etc. from the DEM at different scales. All done within QGIS.\n",
    "\n",
    "Original file: `\"data/raw/dem_france/original_dem25_altitude_put_together_in_python.tif\"`\n"
   ]
  },
  {
   "cell_type": "markdown",
   "metadata": {},
   "source": [
    "---\n"
   ]
  },
  {
   "cell_type": "markdown",
   "metadata": {},
   "source": [
    "## 3. Extract data from raster files\n"
   ]
  },
  {
   "cell_type": "code",
   "execution_count": null,
   "metadata": {},
   "outputs": [],
   "source": [
    "import glob\n",
    "import sys\n",
    "from pyprojroot import here\n",
    "\n",
    "sys.path.insert(0, \"../../src\")\n",
    "from run_mp import *\n",
    "from utilities import *"
   ]
  },
  {
   "cell_type": "code",
   "execution_count": null,
   "metadata": {},
   "outputs": [],
   "source": [
    "# Get files\n",
    "files = glob.glob(\"/Volumes/SAMSUNG 1TB/qgis/france_dem/derivatives/*1000*.tif\")\n",
    "filenames = [f.split(\"/\")[-1].split(\".tif\")[0] for f in files]\n",
    "df_files = pd.DataFrame({\"filename\": filenames, \"path\": files})\n",
    "list_files = split_df_into_list_of_group_or_ns(df_files, group_variable=files.__len__())\n",
    "\n",
    "# Get buffered coordinates\n",
    "buffer = gpd.read_file(\"../../data/final/nfi/700m_buffer_epsg2154.geojson\")\n",
    "\n",
    "# Run extraction\n",
    "from utilities import extract_zonal_mean\n",
    "\n",
    "run_mp(\n",
    "    extract_zonal_mean,\n",
    "    list_files,\n",
    "    buffer=buffer,\n",
    "    num_cores=10,\n",
    "    force_run=True,\n",
    "    save_dir=\"../../data/france_dem/zonal_statistics\",\n",
    ")"
   ]
  },
  {
   "cell_type": "markdown",
   "metadata": {},
   "source": [
    "## 4. Clean raster extraction\n"
   ]
  },
  {
   "cell_type": "code",
   "execution_count": null,
   "metadata": {},
   "outputs": [],
   "source": [
    "import glob\n",
    "import sys\n",
    "from pyprojroot import here\n",
    "\n",
    "sys.path.insert(0, \"../../src\")\n",
    "from run_mp import *\n",
    "from utilities import *"
   ]
  },
  {
   "cell_type": "code",
   "execution_count": null,
   "metadata": {},
   "outputs": [],
   "source": [
    "# Get all extracated files\n",
    "files = glob.glob(\"../../data/france_dem/zonal_statistics/*.feather\")\n",
    "\n",
    "# Get structure of df\n",
    "df_all = pd.read_feather(files[0])[[\"idp\", \"first_year\"]]\n",
    "\n",
    "# Loop through all files and attach to them by idp and first year\n",
    "for file in files:\n",
    "    df = pd.read_feather(file)\n",
    "    df_all = pd.merge(df_all, df, on=[\"idp\", \"first_year\"], how=\"left\")\n",
    "\n",
    "df_all"
   ]
  },
  {
   "cell_type": "code",
   "execution_count": null,
   "metadata": {},
   "outputs": [],
   "source": [
    "# Aspect has a degree structure going from 0 to 360 which is not ideal for ML.\n",
    "# We will transform it to a sin and cos variable\n",
    "# https://stats.stackexchange.com/questions/218407/encoding-aspects-for-sine-and-cosine\n",
    "df_fixed = df_all.copy()\n",
    "\n",
    "# Extract variables that hold aspect information\n",
    "aspect_vars = [var for var in df_fixed.columns if \"aspect\" in var]\n",
    "print(aspect_vars)\n",
    "wrangled_vars = 0\n",
    "\n",
    "for var in aspect_vars:\n",
    "    if \"_sd\" in var:\n",
    "        df_fixed = df_fixed.drop(columns=[var])\n",
    "        continue\n",
    "    # Extract information on dem resolution\n",
    "    res = var.split(\"_\")[0]\n",
    "\n",
    "    # Extract information on aspect type\n",
    "    df_fixed[f\"{res}_aspect_sin\"] = np.sin(np.deg2rad(df_fixed[var]))\n",
    "    df_fixed[f\"{res}_aspect_cos\"] = np.cos(np.deg2rad(df_fixed[var]))\n",
    "\n",
    "    # Drop original variable\n",
    "    df_fixed = df_fixed.drop(columns=[var])\n",
    "\n",
    "    # Counter\n",
    "    wrangled_vars += 1\n",
    "\n",
    "# Verbose\n",
    "print(f\"Shape of df_fixed before aspect transformation:\\t{df_all.shape}\")\n",
    "print(f\"Shape of df_fixed after aspect transformation: \\t{df_fixed.shape}\")\n",
    "print(f\"Change in columns should be: {wrangled_vars*2-len(aspect_vars)}\")"
   ]
  },
  {
   "cell_type": "code",
   "execution_count": null,
   "metadata": {},
   "outputs": [],
   "source": [
    "df_fixed"
   ]
  },
  {
   "cell_type": "code",
   "execution_count": null,
   "metadata": {},
   "outputs": [],
   "source": [
    "df_fixed.to_feather(\"../../data/final/predictor_datasets/topography.feather\")"
   ]
  },
  {
   "cell_type": "markdown",
   "metadata": {},
   "source": [
    "---\n"
   ]
  }
 ],
 "metadata": {
  "kernelspec": {
   "display_name": ".venv",
   "language": "python",
   "name": "python3"
  },
  "language_info": {
   "codemirror_mode": {
    "name": "ipython",
    "version": 3
   },
   "file_extension": ".py",
   "mimetype": "text/x-python",
   "name": "python",
   "nbconvert_exporter": "python",
   "pygments_lexer": "ipython3",
   "version": "3.11.5"
  }
 },
 "nbformat": 4,
 "nbformat_minor": 2
}
