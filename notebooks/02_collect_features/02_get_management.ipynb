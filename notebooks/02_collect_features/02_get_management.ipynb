{
 "cells": [
  {
   "cell_type": "markdown",
   "metadata": {},
   "source": [
    "# Human Activity\n"
   ]
  },
  {
   "cell_type": "code",
   "execution_count": 1,
   "metadata": {},
   "outputs": [],
   "source": [
    "import sys\n",
    "\n",
    "sys.path.insert(0, \"../../src\")\n",
    "from imports import *\n",
    "\n",
    "init_notebook()"
   ]
  },
  {
   "cell_type": "code",
   "execution_count": 2,
   "metadata": {},
   "outputs": [
    {
     "name": "stdout",
     "output_type": "stream",
     "text": [
      "\n",
      "Loading final NFI data for analysis... (output of python wrangling)\n",
      "- Latest file is /Users/pascal/repos/padasch/ifn_analysis/data/final/nfi/nfi_ready_for_analysis.feather \n",
      "- Created on Thursday 2024-10-17, 12:32 which is 1 days ago.\n",
      "  Number of trees:  687268\n",
      "  Number of sites:  50012\n"
     ]
    }
   ],
   "source": [
    "df_tree = get_final_nfi_data_for_analysis()"
   ]
  },
  {
   "cell_type": "markdown",
   "metadata": {},
   "source": [
    "## Logging\n"
   ]
  },
  {
   "cell_type": "code",
   "execution_count": 3,
   "metadata": {},
   "outputs": [
    {
     "name": "stdout",
     "output_type": "stream",
     "text": [
      " - Splitting df into 10 groups, grouped by idp\n"
     ]
    },
    {
     "name": "stderr",
     "output_type": "stream",
     "text": [
      "100%|██████████| 10/10 [11:05<00:00, 66.59s/it]  \n"
     ]
    }
   ],
   "source": [
    "df_mp = calculate_harvest_loop_mp(df_tree, \"idp\")"
   ]
  },
  {
   "cell_type": "code",
   "execution_count": 4,
   "metadata": {},
   "outputs": [
    {
     "data": {
      "text/html": [
       "<div>\n",
       "<style scoped>\n",
       "    .dataframe tbody tr th:only-of-type {\n",
       "        vertical-align: middle;\n",
       "    }\n",
       "\n",
       "    .dataframe tbody tr th {\n",
       "        vertical-align: top;\n",
       "    }\n",
       "\n",
       "    .dataframe thead th {\n",
       "        text-align: right;\n",
       "    }\n",
       "</style>\n",
       "<table border=\"1\" class=\"dataframe\">\n",
       "  <thead>\n",
       "    <tr style=\"text-align: right;\">\n",
       "      <th></th>\n",
       "      <th>idp</th>\n",
       "      <th>perc_cut</th>\n",
       "      <th>cut_intensity_nfi</th>\n",
       "      <th>dist_road</th>\n",
       "      <th>mgmt_intensity</th>\n",
       "    </tr>\n",
       "  </thead>\n",
       "  <tbody>\n",
       "    <tr>\n",
       "      <th>0</th>\n",
       "      <td>500008</td>\n",
       "      <td>0.000000</td>\n",
       "      <td>0.0</td>\n",
       "      <td>0.0</td>\n",
       "      <td>2.0</td>\n",
       "    </tr>\n",
       "    <tr>\n",
       "      <th>1</th>\n",
       "      <td>500013</td>\n",
       "      <td>3.333333</td>\n",
       "      <td>1.0</td>\n",
       "      <td>0.0</td>\n",
       "      <td>2.0</td>\n",
       "    </tr>\n",
       "    <tr>\n",
       "      <th>2</th>\n",
       "      <td>500098</td>\n",
       "      <td>0.000000</td>\n",
       "      <td>0.0</td>\n",
       "      <td>0.0</td>\n",
       "      <td>2.0</td>\n",
       "    </tr>\n",
       "    <tr>\n",
       "      <th>3</th>\n",
       "      <td>500103</td>\n",
       "      <td>6.000000</td>\n",
       "      <td>3.0</td>\n",
       "      <td>0.0</td>\n",
       "      <td>2.0</td>\n",
       "    </tr>\n",
       "    <tr>\n",
       "      <th>4</th>\n",
       "      <td>500137</td>\n",
       "      <td>0.000000</td>\n",
       "      <td>0.0</td>\n",
       "      <td>0.0</td>\n",
       "      <td>0.0</td>\n",
       "    </tr>\n",
       "    <tr>\n",
       "      <th>...</th>\n",
       "      <td>...</td>\n",
       "      <td>...</td>\n",
       "      <td>...</td>\n",
       "      <td>...</td>\n",
       "      <td>...</td>\n",
       "    </tr>\n",
       "    <tr>\n",
       "      <th>50007</th>\n",
       "      <td>1354883</td>\n",
       "      <td>0.000000</td>\n",
       "      <td>0.0</td>\n",
       "      <td>0.0</td>\n",
       "      <td>0.0</td>\n",
       "    </tr>\n",
       "    <tr>\n",
       "      <th>50008</th>\n",
       "      <td>1354893</td>\n",
       "      <td>0.000000</td>\n",
       "      <td>0.0</td>\n",
       "      <td>0.0</td>\n",
       "      <td>0.0</td>\n",
       "    </tr>\n",
       "    <tr>\n",
       "      <th>50009</th>\n",
       "      <td>1354907</td>\n",
       "      <td>0.000000</td>\n",
       "      <td>0.0</td>\n",
       "      <td>0.0</td>\n",
       "      <td>0.0</td>\n",
       "    </tr>\n",
       "    <tr>\n",
       "      <th>50010</th>\n",
       "      <td>1354911</td>\n",
       "      <td>0.000000</td>\n",
       "      <td>0.0</td>\n",
       "      <td>0.0</td>\n",
       "      <td>0.0</td>\n",
       "    </tr>\n",
       "    <tr>\n",
       "      <th>50011</th>\n",
       "      <td>1354913</td>\n",
       "      <td>0.000000</td>\n",
       "      <td>0.0</td>\n",
       "      <td>0.0</td>\n",
       "      <td>0.0</td>\n",
       "    </tr>\n",
       "  </tbody>\n",
       "</table>\n",
       "<p>50012 rows × 5 columns</p>\n",
       "</div>"
      ],
      "text/plain": [
       "           idp  perc_cut  cut_intensity_nfi  dist_road  mgmt_intensity\n",
       "0       500008  0.000000                0.0        0.0             2.0\n",
       "1       500013  3.333333                1.0        0.0             2.0\n",
       "2       500098  0.000000                0.0        0.0             2.0\n",
       "3       500103  6.000000                3.0        0.0             2.0\n",
       "4       500137  0.000000                0.0        0.0             0.0\n",
       "...        ...       ...                ...        ...             ...\n",
       "50007  1354883  0.000000                0.0        0.0             0.0\n",
       "50008  1354893  0.000000                0.0        0.0             0.0\n",
       "50009  1354907  0.000000                0.0        0.0             0.0\n",
       "50010  1354911  0.000000                0.0        0.0             0.0\n",
       "50011  1354913  0.000000                0.0        0.0             0.0\n",
       "\n",
       "[50012 rows x 5 columns]"
      ]
     },
     "execution_count": 4,
     "metadata": {},
     "output_type": "execute_result"
    }
   ],
   "source": [
    "# Attach çalculating cutting rate\n",
    "df_human = df_mp[[\"idp\", \"perc_cut\"]]\n",
    "\n",
    "# Attach NFI assessed cutting intensity\n",
    "df_human = df_human.merge(\n",
    "    df_tree[[\"idp\", \"dc_2\"]]\n",
    "    .copy()\n",
    "    .drop_duplicates()\n",
    "    .rename(columns={\"dc_2\": \"cut_intensity_nfi\"}),\n",
    "    how=\"left\",\n",
    "    on=\"idp\",\n",
    ")\n",
    "\n",
    "# Attach road distance\n",
    "df_human[\"dist_road\"] = (\n",
    "    df_tree[\"dist\"].fillna(0).copy()\n",
    ")  # For dist, NA was added instead of 0, starting with first visits in 2016\n",
    "df_human[\"mgmt_intensity\"] = (\n",
    "    df_tree[\"gest\"].fillna(-1).copy()\n",
    ")  # Some minor fraction of NA in gest, turning into -1 to be able to distinguish\n",
    "\n",
    "df_human"
   ]
  },
  {
   "cell_type": "code",
   "execution_count": null,
   "metadata": {},
   "outputs": [],
   "source": [
    "# Save it\n",
    "df_human.to_feather(\"../../data/final/predictor_datasets/management.feather\")"
   ]
  }
 ],
 "metadata": {
  "kernelspec": {
   "display_name": ".venv",
   "language": "python",
   "name": "python3"
  },
  "language_info": {
   "codemirror_mode": {
    "name": "ipython",
    "version": 3
   },
   "file_extension": ".py",
   "mimetype": "text/x-python",
   "name": "python",
   "nbconvert_exporter": "python",
   "pygments_lexer": "ipython3",
   "version": "3.11.5"
  }
 },
 "nbformat": 4,
 "nbformat_minor": 2
}
