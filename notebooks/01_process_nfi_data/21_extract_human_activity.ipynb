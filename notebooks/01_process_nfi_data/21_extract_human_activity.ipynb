{
 "cells": [
  {
   "cell_type": "markdown",
   "metadata": {},
   "source": [
    "# Human Activity\n"
   ]
  },
  {
   "cell_type": "code",
   "execution_count": null,
   "metadata": {},
   "outputs": [],
   "source": [
    "import sys\n",
    "\n",
    "sys.path.insert(0, \"../../src\")\n",
    "from imports import *\n",
    "\n",
    "init_notebook()"
   ]
  },
  {
   "cell_type": "code",
   "execution_count": null,
   "metadata": {},
   "outputs": [],
   "source": [
    "df_tree = get_final_nfi_data_for_analysis()"
   ]
  },
  {
   "cell_type": "markdown",
   "metadata": {},
   "source": [
    "## Logging\n"
   ]
  },
  {
   "cell_type": "code",
   "execution_count": null,
   "metadata": {},
   "outputs": [],
   "source": [
    "df_mp = calculate_harvest_loop_mp(df_tree, \"idp\")"
   ]
  },
  {
   "cell_type": "code",
   "execution_count": null,
   "metadata": {},
   "outputs": [],
   "source": [
    "# Attach çalculating cutting rate\n",
    "df_human = df_mp[[\"idp\", \"perc_cut\"]]\n",
    "\n",
    "# Attach NFI assessed cutting intensity\n",
    "df_human = df_human.merge(\n",
    "    df_tree[[\"idp\", \"dc_2\"]]\n",
    "    .copy()\n",
    "    .drop_duplicates()\n",
    "    .rename(columns={\"dc_2\": \"cut_intensity_nfi\"}),\n",
    "    how=\"left\",\n",
    "    on=\"idp\",\n",
    ")\n",
    "\n",
    "# Attach road distance\n",
    "df_human[\"dist_road\"] = (\n",
    "    df_tree[\"dist\"].fillna(0).copy()\n",
    ")  # For dist, NA was added instead of 0, starting with first visits in 2016\n",
    "df_human[\"mgmt_intensity\"] = (\n",
    "    df_tree[\"gest\"].fillna(-1).copy()\n",
    ")  # Some minor fraction of NA in gest, turning into -1 to be able to distinguish\n",
    "\n",
    "df_human"
   ]
  },
  {
   "cell_type": "code",
   "execution_count": null,
   "metadata": {},
   "outputs": [],
   "source": [
    "# Save it\n",
    "df_human.to_feather(\"../../data/final/predictor_datasets/human_activity.feather\")"
   ]
  }
 ],
 "metadata": {
  "kernelspec": {
   "display_name": ".venv",
   "language": "python",
   "name": "python3"
  },
  "language_info": {
   "codemirror_mode": {
    "name": "ipython",
    "version": 3
   },
   "file_extension": ".py",
   "mimetype": "text/x-python",
   "name": "python",
   "nbconvert_exporter": "python",
   "pygments_lexer": "ipython3",
   "version": "3.11.5"
  }
 },
 "nbformat": 4,
 "nbformat_minor": 2
}
