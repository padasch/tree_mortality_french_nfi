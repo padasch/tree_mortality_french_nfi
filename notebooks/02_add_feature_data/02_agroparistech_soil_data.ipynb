{
 "cells": [
  {
   "cell_type": "markdown",
   "metadata": {},
   "source": [
    "# Agroparistech Data\n"
   ]
  },
  {
   "cell_type": "code",
   "execution_count": null,
   "metadata": {},
   "outputs": [],
   "source": [
    "import glob\n",
    "import sys\n",
    "from pyprojroot import here\n",
    "\n",
    "sys.path.insert(0, \"../../src\")\n",
    "from run_mp import *\n",
    "from utilities import *"
   ]
  },
  {
   "cell_type": "markdown",
   "metadata": {},
   "source": [
    "## Clean QGIS Extraction\n"
   ]
  },
  {
   "cell_type": "code",
   "execution_count": null,
   "metadata": {},
   "outputs": [],
   "source": [
    "import sys\n",
    "\n",
    "sys.path.insert(0, \"../../src\")\n",
    "from imports import *\n",
    "\n",
    "init_notebook()"
   ]
  },
  {
   "cell_type": "code",
   "execution_count": null,
   "metadata": {},
   "outputs": [],
   "source": [
    "# Get all extracated files\n",
    "files = glob.glob(\"../../data/agroparistech-intern/zonal_statistics/qgis/*.csv\")\n",
    "filenames = [f.split(\"output_\")[-1].split(\"-e\")[0] for f in files]\n",
    "\n",
    "# Get structure of df\n",
    "df_all = pd.read_csv(files[0])[[\"idp\", \"first_year\"]]\n",
    "\n",
    "# Loop through all files and attach to them by idp and first year\n",
    "for i in range(len(files)):\n",
    "    df = pd.read_csv(files[i]).rename(\n",
    "        columns={\n",
    "            \"_mean\": filenames[i],\n",
    "        }\n",
    "    )\n",
    "    df_all = pd.merge(df_all, df, on=[\"idp\", \"first_year\"], how=\"left\")\n",
    "\n",
    "# Clean up failed files and fix names (files with 'lor' in name were only for Vosges region)\n",
    "df_all = df_all.rename(\n",
    "    columns={\n",
    "        \"cn_ess2_L93\": \"soil_CN\",\n",
    "        \"ph_ess2_L93\": \"soil_pH\",\n",
    "        \"ep_ess2_fr\": \"soil_waterlogging_perm\",\n",
    "        \"et_ess2_Fr\": \"soil_waterlogging_temp\",\n",
    "        \"rum2018_L93\": \"soil_swhc\",\n",
    "    }\n",
    ")[\n",
    "    [\n",
    "        \"idp\",\n",
    "        \"first_year\",\n",
    "        \"soil_CN\",\n",
    "        \"soil_pH\",\n",
    "        \"soil_waterlogging_perm\",\n",
    "        \"soil_waterlogging_temp\",\n",
    "        \"soil_swhc\",\n",
    "    ]\n",
    "]\n",
    "\n",
    "\n",
    "df_all"
   ]
  },
  {
   "cell_type": "code",
   "execution_count": null,
   "metadata": {},
   "outputs": [],
   "source": [
    "df_all.to_feather(\"../../data/final/predictor_datasets/agroparistech_soil.feather\")"
   ]
  }
 ],
 "metadata": {
  "kernelspec": {
   "display_name": ".venv",
   "language": "python",
   "name": "python3"
  },
  "language_info": {
   "codemirror_mode": {
    "name": "ipython",
    "version": 3
   },
   "file_extension": ".py",
   "mimetype": "text/x-python",
   "name": "python",
   "nbconvert_exporter": "python",
   "pygments_lexer": "ipython3",
   "version": "3.11.5"
  }
 },
 "nbformat": 4,
 "nbformat_minor": 2
}
