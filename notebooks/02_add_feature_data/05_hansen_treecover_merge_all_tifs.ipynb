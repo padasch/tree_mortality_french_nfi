{
 "cells": [
  {
   "cell_type": "markdown",
   "metadata": {},
   "source": [
    "# Extract Tree Cover from Hansen 2013\n",
    "\n",
    "Run this notebook to merge all the separate files downloaded from GEE.\n"
   ]
  },
  {
   "cell_type": "markdown",
   "metadata": {},
   "source": [
    "## Imports\n"
   ]
  },
  {
   "cell_type": "code",
   "execution_count": null,
   "metadata": {},
   "outputs": [],
   "source": [
    "# Magic\n",
    "%matplotlib inline\n",
    "%load_ext autoreload\n",
    "%autoreload 2\n",
    "\n",
    "# Libraries\n",
    "import geopandas as gpd\n",
    "import rasterio\n",
    "from rasterio.merge import merge\n",
    "from rasterio.crs import CRS\n",
    "from tqdm import tqdm\n",
    "import matplotlib.pyplot as plt\n",
    "import glob\n",
    "import sys\n",
    "from pyprojroot import here\n",
    "\n",
    "sys.path.insert(0, \"../../src\")\n",
    "from run_mp import *\n",
    "from utilities import *\n",
    "\n",
    "import chime\n",
    "chime.theme(\"mario\")"
   ]
  },
  {
   "cell_type": "markdown",
   "metadata": {},
   "source": [
    "## Merge Raster Parts\n"
   ]
  },
  {
   "cell_type": "code",
   "execution_count": null,
   "metadata": {},
   "outputs": [],
   "source": [
    "def merge_raster_parts(myvar):\n",
    "    display(f\"Extraction for file {myvar}\")\n",
    "    # ! List all tif files of desired variable -----------------------------------------\n",
    "    all_files = glob.glob(f\"../../data/hansen2013/{myvar}/*.tif\")\n",
    "    print(\"- Number of files: \", len(all_files))\n",
    "    print(all_files)\n",
    "\n",
    "    # ! Merge all files into one --------------------------------------------------------\n",
    "    folder = here(f\"data/hansen2013/{myvar}\")\n",
    "    os.makedirs(folder, exist_ok=True)\n",
    "    filename = here(f\"data/hansen2013/{myvar}_merged_in_python.tif\")\n",
    "\n",
    "    # List for the data\n",
    "    src_files_to_mosaic = []\n",
    "    print(\"- Loading all files into a list...\")\n",
    "    for file in tqdm(all_files):\n",
    "        src = rasterio.open(file)\n",
    "        src_files_to_mosaic.append(src)\n",
    "\n",
    "    # Merge function returns a single mosaic array and the transformation info\n",
    "    print(\"- Merge parts into one...\")\n",
    "    mosaic, out_trans = merge(src_files_to_mosaic)\n",
    "\n",
    "    # Copy the metadata\n",
    "    out_meta = src.meta.copy()\n",
    "\n",
    "    # Update the metadata\n",
    "    out_meta.update(\n",
    "        {\n",
    "            \"driver\": \"GTiff\",\n",
    "            \"height\": mosaic.shape[1],\n",
    "            \"width\": mosaic.shape[2],\n",
    "            \"transform\": out_trans,\n",
    "            \"crs\": src.crs.to_epsg(),\n",
    "        }\n",
    "    )\n",
    "\n",
    "    # Save the merged raster as a TIFF file\n",
    "    with rasterio.open(\n",
    "        filename,\n",
    "        \"w\",\n",
    "        **out_meta,\n",
    "    ) as dest:\n",
    "        dest.write(mosaic)"
   ]
  },
  {
   "cell_type": "code",
   "execution_count": null,
   "metadata": {},
   "outputs": [],
   "source": [
    "merge_raster_parts(\"treecover2000\")\n",
    "# merge_raster_parts(\"lossyear\")"
   ]
  },
  {
   "cell_type": "code",
   "execution_count": null,
   "metadata": {},
   "outputs": [],
   "source": [
    "# Quality Control.\n",
    "# ! Outcommented because it can take up to 1 min!\n",
    "# Open the saved TIFF file and plot it\n",
    "# with rasterio.open(filename) as src:\n",
    "#     # Read the raster data\n",
    "#     raster_data = src.read(1)\n",
    "\n",
    "#     # Display the raster data\n",
    "#     plt.imshow(raster_data, cmap=\"gray\")\n",
    "#     plt.colorbar()\n",
    "#     plt.show()"
   ]
  },
  {
   "cell_type": "markdown",
   "metadata": {},
   "source": [
    "## Extract Data at Sites\n",
    "\n",
    "- Extraction done in QGIS, was easier...\n"
   ]
  },
  {
   "cell_type": "code",
   "execution_count": null,
   "metadata": {},
   "outputs": [],
   "source": [
    "lossyear = pd.read_csv(here(\"qgis/hansen2013/hansen2013_lossyear.csv\"))\n",
    "treecover = pd.read_csv(here(\"qgis/hansen2013/hansen2013_treecover.csv\"))\n",
    "\n",
    "df = pd.merge(\n",
    "    lossyear,\n",
    "    treecover,\n",
    "    how=\"outer\",\n",
    ")\n",
    "df = df.rename(columns={\"lossyear1\": \"lossyear\", \"treecover1\": \"treecover\"})[\n",
    "    [\"idp\", \"lossyear\", \"treecover\"]\n",
    "]\n",
    "df"
   ]
  },
  {
   "cell_type": "markdown",
   "metadata": {},
   "source": [
    "## Save Final Data\n"
   ]
  },
  {
   "cell_type": "code",
   "execution_count": null,
   "metadata": {},
   "outputs": [],
   "source": [
    "df.to_feather(here(\"data/final/predictor_datasets/treecover.feather\"))\n",
    "df\n",
    "chime.success()"
   ]
  },
  {
   "cell_type": "markdown",
   "metadata": {},
   "source": [
    "# Forest Cover Map\n"
   ]
  },
  {
   "cell_type": "code",
   "execution_count": null,
   "metadata": {},
   "outputs": [],
   "source": [
    "import sys\n",
    "\n",
    "sys.path.insert(0, \"../../src\")\n",
    "from imports import *\n",
    "\n",
    "init_notebook()\n",
    "\n",
    "import rasterio\n",
    "import numpy as np\n",
    "import pandas as pd\n",
    "from rasterio.transform import Affine\n",
    "\n",
    "import matplotlib.dates as mdates\n",
    "from sklearn.linear_model import LinearRegression\n",
    "from matplotlib.lines import Line2D\n",
    "import matplotlib.lines as mlines\n",
    "from scipy.stats import mode"
   ]
  },
  {
   "cell_type": "code",
   "execution_count": null,
   "metadata": {},
   "outputs": [],
   "source": [
    "df = aggregate_raster_to_csv(\n",
    "    \"../../data/hansen2013/treecover2000_merged_in_python-clipped_mask_france.tif\",\n",
    "    \"../../data/hansen2013/treecover2000_merged_in_python-clipped_mask_france.csv\",\n",
    "    2 * 1000,\n",
    "    save_file=False,\n",
    "    verbose=True,\n",
    ")"
   ]
  },
  {
   "cell_type": "code",
   "execution_count": null,
   "metadata": {},
   "outputs": [],
   "source": [
    "make_map_for_temp_prec_cover(\n",
    "    df,\n",
    "    \"treecover\",\n",
    "    pixel_res=500j,\n",
    "    textsize=20,\n",
    "    contour_levels=11,\n",
    "    filepath=\"./forest_cover/forest_cover_map.png\",\n",
    "    tick_interval=1,\n",
    ")"
   ]
  }
 ],
 "metadata": {
  "kernelspec": {
   "display_name": "ifna-venv",
   "language": "python",
   "name": "python3"
  },
  "language_info": {
   "codemirror_mode": {
    "name": "ipython",
    "version": 3
   },
   "file_extension": ".py",
   "mimetype": "text/x-python",
   "name": "python",
   "nbconvert_exporter": "python",
   "pygments_lexer": "ipython3",
   "version": "3.11.5"
  }
 },
 "nbformat": 4,
 "nbformat_minor": 2
}
